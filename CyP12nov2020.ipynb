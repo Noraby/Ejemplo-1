{
  "nbformat": 4,
  "nbformat_minor": 0,
  "metadata": {
    "colab": {
      "name": "CyP12nov2020.ipynb",
      "provenance": [],
      "authorship_tag": "ABX9TyOZtqt2OXPV7fbcteKagNJH",
      "include_colab_link": true
    },
    "kernelspec": {
      "name": "python3",
      "display_name": "Python 3"
    }
  },
  "cells": [
    {
      "cell_type": "markdown",
      "metadata": {
        "id": "view-in-github",
        "colab_type": "text"
      },
      "source": [
        "<a href=\"https://colab.research.google.com/github/Noraby/Ejemplo-1/blob/master/CyP12nov2020.ipynb\" target=\"_parent\"><img src=\"https://colab.research.google.com/assets/colab-badge.svg\" alt=\"Open In Colab\"/></a>"
      ]
    },
    {
      "cell_type": "code",
      "metadata": {
        "id": "ukJu8PU8cAnN",
        "outputId": "a6e0233b-cd8a-44a5-fe09-ecae41f0c8a1",
        "colab": {
          "base_uri": "https://localhost:8080/"
        }
      },
      "source": [
        "#Ejemplo 1\n",
        "numero=int (input(\"Dame un numero\"))\n",
        "if numero >0:\n",
        "  print(\"El número es positio\")\n",
        "\n",
        "print( \"Fin de del programa\")\n",
        "\n"
      ],
      "execution_count": 2,
      "outputs": [
        {
          "output_type": "stream",
          "text": [
            "Dame un numero3\n",
            "El número es positio\n",
            "Fin de del programa\n"
          ],
          "name": "stdout"
        }
      ]
    },
    {
      "cell_type": "code",
      "metadata": {
        "id": "cveYJAqlfBR7",
        "outputId": "4d7b5cf9-6f0a-401b-92d7-c293d33206aa",
        "colab": {
          "base_uri": "https://localhost:8080/"
        }
      },
      "source": [
        "#ejemplo 2\n",
        "numero= int(input(\"Digite un numero\"))\n",
        "if numero >0:\n",
        "  print(\"El numero es positivo\")\n",
        "else:#sino imprime negativo\n",
        "  print(\"El numero es negativo\")\n",
        "\n"
      ],
      "execution_count": 4,
      "outputs": [
        {
          "output_type": "stream",
          "text": [
            "Digite un numero3\n",
            "El numero es positivo\n"
          ],
          "name": "stdout"
        }
      ]
    },
    {
      "cell_type": "code",
      "metadata": {
        "id": "JLnPerxjg2DV",
        "outputId": "46d4eed2-3f0f-42c9-ee1c-58d1fa35db70",
        "colab": {
          "base_uri": "https://localhost:8080/"
        }
      },
      "source": [
        "#Ejemplo 3\n",
        "numero= int(input(\"Digite un numero\"))\n",
        "if numero >0:\n",
        "  print(\"El numero es positivo\")\n",
        "elif numero==0:\n",
        "  print(\"El numero es cero\")\n",
        "\n",
        "else:#sino imprime negativo\n",
        "  print(\"El numero es negativo\")\n",
        "\n",
        "print(\"Fin del programa\")"
      ],
      "execution_count": 8,
      "outputs": [
        {
          "output_type": "stream",
          "text": [
            "Digite un numero9\n",
            "El numero es positivo\n",
            "Fin del programa\n"
          ],
          "name": "stdout"
        }
      ]
    }
  ]
}